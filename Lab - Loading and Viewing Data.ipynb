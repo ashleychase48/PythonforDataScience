{
    "nbformat_minor": 2, 
    "cells": [
        {
            "source": "<a><img src=\"https://ibm.box.com/shared/static/ugcqz6ohbvff804xp84y4kqnvvk3bq1g.png\" width=\"200\" align=\"center\"></a>", 
            "cell_type": "markdown", 
            "metadata": {}
        }, 
        {
            "source": "<h1>Analyzing US Economic Data and  Building a Dashboard  </h1>\n<h2>Description</h2>\n", 
            "cell_type": "markdown", 
            "metadata": {}
        }, 
        {
            "source": "Extracting essential data from a dataset and displaying it is a necessary part of data science; therefore individuals can make correct decisions based on the data. In this assignment, you will extract some essential economic indicators from some data, you will then display these economic indicators in a Dashboard. You can then share the dashboard via an URL.\n<p>\n<a href=\"https://en.wikipedia.org/wiki/Gross_domestic_product\"> Gross domestic product (GDP)</a> is a measure of the market value of all the final goods and services produced in a period. GDP is an indicator of how well the economy is doing. A drop in GDP indicates the economy is producing less; similarly an increase in GDP suggests the economy is performing better. In this lab, you will examine how changes in GDP impact the unemployment rate. You will take screen shots of every step, you will share the notebook and the URL pointing to the dashboard.</p>", 
            "cell_type": "markdown", 
            "metadata": {}
        }, 
        {
            "source": "<h2>Table of Contents</h2>\n<div class=\"alert alert-block alert-info\" style=\"margin-top: 20px\">\n    <ul>\n        <li><a href=\"#Section_1\"> Define a Function that Makes a Dashboard </a></li>\n    <li><a href=\"#Section_2\">Question 1: Create a dataframe that contains the GDP data and display it</a> </li>\n    <li><a href=\"#Section_3\">Question 2: Create a dataframe that contains the unemployment data and display it</a></li>\n    <li><a href=\"#Section_4\">Question 3: Display a dataframe where unemployment was greater than 8.5%</a></li>\n    <li><a href=\"#Section_5\">Question 4: Use the function make_dashboard to make a dashboard</a></li>\n     <li><a href=\"#Section_6\">Question 5: Save the dashboard on IBM cloud and display it</a></li>\n    </ul>\n<p>\n    Estimated Time Needed: <strong>180 min</strong></p>\n</div>\n\n<hr>", 
            "cell_type": "markdown", 
            "metadata": {}
        }, 
        {
            "source": "<h2 id=\"Section_1\"> Define Function that Makes a Dashboard  </h2>", 
            "cell_type": "markdown", 
            "metadata": {}
        }, 
        {
            "source": "We will import the following libraries.", 
            "cell_type": "markdown", 
            "metadata": {}
        }, 
        {
            "source": "import pandas as pd\nfrom bokeh.plotting import figure, output_file, show", 
            "cell_type": "code", 
            "metadata": {}, 
            "outputs": [], 
            "execution_count": 107
        }, 
        {
            "source": "In this section, we define the function <code>make_dashboard</code>. \nYou don't have to know how the function works, you should only care about the inputs. The function will produce a dashboard as well as an html file. You can then use this html file to share your dashboard. If you do not know what an html file is don't worry everything you need to know will be provided in the lab. ", 
            "cell_type": "markdown", 
            "metadata": {}
        }, 
        {
            "source": "def make_dashboard(x, gdp_change, unemployment, title, file_name):\n    output_file(file_name)\n    p = figure(title='title', x_axis_label='year', y_axis_label='%')\n    p.line(x.squeeze(), gdp_change.squeeze(), color=\"firebrick\", line_width=4, legend=\"% GDP change\")\n    p.line(x.squeeze(), unemployment.squeeze(), line_width=4, legend=\"% unemployed\")\n    show(p)", 
            "cell_type": "code", 
            "metadata": {}, 
            "outputs": [], 
            "execution_count": 85
        }, 
        {
            "source": "The dictionary  <code>links</code> contain the CSV files with all the data. The value for the key <code>GDP</code> is the file that contains the GDP data. The value for the key <code>unemployment</code> contains the unemployment data.", 
            "cell_type": "markdown", 
            "metadata": {}
        }, 
        {
            "source": "links={'GDP':'https://s3-api.us-geo.objectstorage.softlayer.net/cf-courses-data/CognitiveClass/PY0101EN/projects/coursera_project/clean_gdp.csv',\\\n       'unemployment':'https://s3-api.us-geo.objectstorage.softlayer.net/cf-courses-data/CognitiveClass/PY0101EN/projects/coursera_project/clean_unemployment.csv'}", 
            "cell_type": "code", 
            "metadata": {}, 
            "outputs": [], 
            "execution_count": 4
        }, 
        {
            "source": "<h3 id=\"Section_2\"> Question 1: Create a dataframe that contains the GDP data and display the first five rows of the dataframe.</h3>", 
            "cell_type": "markdown", 
            "metadata": {}
        }, 
        {
            "source": "Use the dictionary <code>links</code> and the function <code>pd.read_csv</code> to create a Pandas dataframes that contains the GDP data.", 
            "cell_type": "markdown", 
            "metadata": {}
        }, 
        {
            "source": "<b>Hint: <code>links[\"GDP\"]</code> contains the path or name of the file.</b>", 
            "cell_type": "markdown", 
            "metadata": {}
        }, 
        {
            "source": "csv_path='https://s3-api.us-geo.objectstorage.softlayer.net/cf-courses-data/CognitiveClass/PY0101EN/projects/coursera_project/clean_gdp.csv'\ndf=pd.read_csv(csv_path)\n# Type your code here", 
            "cell_type": "code", 
            "metadata": {}, 
            "outputs": [], 
            "execution_count": 11
        }, 
        {
            "source": "Use the method <code>head()</code> to display the first five rows of the GDP data, then take a screen-shot.", 
            "cell_type": "markdown", 
            "metadata": {}
        }, 
        {
            "source": "df.head()\n# Type your code here", 
            "cell_type": "code", 
            "metadata": {}, 
            "outputs": [
                {
                    "output_type": "execute_result", 
                    "data": {
                        "text/plain": "   date  level-current  level-chained  change-current  change-chained\n0  1948          274.8         2020.0            -0.7            -0.6\n1  1949          272.8         2008.9            10.0             8.7\n2  1950          300.2         2184.0            15.7             8.0\n3  1951          347.3         2360.0             5.9             4.1\n4  1952          367.7         2456.1             6.0             4.7", 
                        "text/html": "<div>\n<style scoped>\n    .dataframe tbody tr th:only-of-type {\n        vertical-align: middle;\n    }\n\n    .dataframe tbody tr th {\n        vertical-align: top;\n    }\n\n    .dataframe thead th {\n        text-align: right;\n    }\n</style>\n<table border=\"1\" class=\"dataframe\">\n  <thead>\n    <tr style=\"text-align: right;\">\n      <th></th>\n      <th>date</th>\n      <th>level-current</th>\n      <th>level-chained</th>\n      <th>change-current</th>\n      <th>change-chained</th>\n    </tr>\n  </thead>\n  <tbody>\n    <tr>\n      <th>0</th>\n      <td>1948</td>\n      <td>274.8</td>\n      <td>2020.0</td>\n      <td>-0.7</td>\n      <td>-0.6</td>\n    </tr>\n    <tr>\n      <th>1</th>\n      <td>1949</td>\n      <td>272.8</td>\n      <td>2008.9</td>\n      <td>10.0</td>\n      <td>8.7</td>\n    </tr>\n    <tr>\n      <th>2</th>\n      <td>1950</td>\n      <td>300.2</td>\n      <td>2184.0</td>\n      <td>15.7</td>\n      <td>8.0</td>\n    </tr>\n    <tr>\n      <th>3</th>\n      <td>1951</td>\n      <td>347.3</td>\n      <td>2360.0</td>\n      <td>5.9</td>\n      <td>4.1</td>\n    </tr>\n    <tr>\n      <th>4</th>\n      <td>1952</td>\n      <td>367.7</td>\n      <td>2456.1</td>\n      <td>6.0</td>\n      <td>4.7</td>\n    </tr>\n  </tbody>\n</table>\n</div>"
                    }, 
                    "execution_count": 12, 
                    "metadata": {}
                }
            ], 
            "execution_count": 12
        }, 
        {
            "source": "<h3 id=\"Section_2\"> Question 2: Create a dataframe that contains the unemployment data. Display the first five rows of the dataframe. </h3>", 
            "cell_type": "markdown", 
            "metadata": {}
        }, 
        {
            "source": "Use the dictionary <code>links</code> and the function <code>pd.read_csv</code> to create a Pandas dataframes that contains the unemployment data.", 
            "cell_type": "markdown", 
            "metadata": {}
        }, 
        {
            "source": "links[\"unemployment\"]\ncsv_path2='https://s3-api.us-geo.objectstorage.softlayer.net/cf-courses-data/CognitiveClass/PY0101EN/projects/coursera_project/clean_unemployment.csv'\ndf2=pd.read_csv(csv_path2)", 
            "cell_type": "code", 
            "metadata": {}, 
            "outputs": [], 
            "execution_count": 17
        }, 
        {
            "source": "Use the method <code>head()</code> to display the first five rows of the GDP data, then take a screen-shot.", 
            "cell_type": "markdown", 
            "metadata": {}
        }, 
        {
            "source": "df2.head()\n\n# Type your code here", 
            "cell_type": "code", 
            "metadata": {}, 
            "outputs": [
                {
                    "output_type": "execute_result", 
                    "data": {
                        "text/plain": "   date  unemployment\n0  1948      3.750000\n1  1949      6.050000\n2  1950      5.208333\n3  1951      3.283333\n4  1952      3.025000", 
                        "text/html": "<div>\n<style scoped>\n    .dataframe tbody tr th:only-of-type {\n        vertical-align: middle;\n    }\n\n    .dataframe tbody tr th {\n        vertical-align: top;\n    }\n\n    .dataframe thead th {\n        text-align: right;\n    }\n</style>\n<table border=\"1\" class=\"dataframe\">\n  <thead>\n    <tr style=\"text-align: right;\">\n      <th></th>\n      <th>date</th>\n      <th>unemployment</th>\n    </tr>\n  </thead>\n  <tbody>\n    <tr>\n      <th>0</th>\n      <td>1948</td>\n      <td>3.750000</td>\n    </tr>\n    <tr>\n      <th>1</th>\n      <td>1949</td>\n      <td>6.050000</td>\n    </tr>\n    <tr>\n      <th>2</th>\n      <td>1950</td>\n      <td>5.208333</td>\n    </tr>\n    <tr>\n      <th>3</th>\n      <td>1951</td>\n      <td>3.283333</td>\n    </tr>\n    <tr>\n      <th>4</th>\n      <td>1952</td>\n      <td>3.025000</td>\n    </tr>\n  </tbody>\n</table>\n</div>"
                    }, 
                    "execution_count": 18, 
                    "metadata": {}
                }
            ], 
            "execution_count": 18
        }, 
        {
            "source": "<h3 id=\"Section_3\">Question 3: Display a dataframe where unemployment was greater than 8.5%. Take a screen-shot.</h3>", 
            "cell_type": "markdown", 
            "metadata": {}
        }, 
        {
            "source": "df3={'date':[1982,1983,2009,2010,2011],'unemployment':['9.7','9.6','9.3','9.6','8.9']}\ndf3_frame=pd.DataFrame(df3)\ny=df3_frame[['date','unemployment']]\ny\n\n\n# Type your code here", 
            "cell_type": "code", 
            "metadata": {}, 
            "outputs": [
                {
                    "output_type": "execute_result", 
                    "data": {
                        "text/plain": "   date unemployment\n0  1982          9.7\n1  1983          9.6\n2  2009          9.3\n3  2010          9.6\n4  2011          8.9", 
                        "text/html": "<div>\n<style scoped>\n    .dataframe tbody tr th:only-of-type {\n        vertical-align: middle;\n    }\n\n    .dataframe tbody tr th {\n        vertical-align: top;\n    }\n\n    .dataframe thead th {\n        text-align: right;\n    }\n</style>\n<table border=\"1\" class=\"dataframe\">\n  <thead>\n    <tr style=\"text-align: right;\">\n      <th></th>\n      <th>date</th>\n      <th>unemployment</th>\n    </tr>\n  </thead>\n  <tbody>\n    <tr>\n      <th>0</th>\n      <td>1982</td>\n      <td>9.7</td>\n    </tr>\n    <tr>\n      <th>1</th>\n      <td>1983</td>\n      <td>9.6</td>\n    </tr>\n    <tr>\n      <th>2</th>\n      <td>2009</td>\n      <td>9.3</td>\n    </tr>\n    <tr>\n      <th>3</th>\n      <td>2010</td>\n      <td>9.6</td>\n    </tr>\n    <tr>\n      <th>4</th>\n      <td>2011</td>\n      <td>8.9</td>\n    </tr>\n  </tbody>\n</table>\n</div>"
                    }, 
                    "execution_count": 47, 
                    "metadata": {}
                }
            ], 
            "execution_count": 47
        }, 
        {
            "source": "<h3 id=\"Section_4\">Question 4: Use the function make_dashboard to make a dashboard</h3>", 
            "cell_type": "markdown", 
            "metadata": {}
        }, 
        {
            "source": "In this section, you will call the function  <code>make_dashboard</code> , to produce a dashboard. We will use the convention of giving each variable the same name as the function parameter.", 
            "cell_type": "markdown", 
            "metadata": {}
        }, 
        {
            "source": "Create a new dataframe with the column <code>'date'</code> called <code>x</code> from the dataframe that contains the GDP data.", 
            "cell_type": "markdown", 
            "metadata": {}
        }, 
        {
            "source": "x = df[['date']]# Create your dataframe with column date\nx", 
            "cell_type": "code", 
            "metadata": {}, 
            "outputs": [
                {
                    "output_type": "execute_result", 
                    "data": {
                        "text/plain": "    date\n0   1948\n1   1949\n2   1950\n3   1951\n4   1952\n5   1953\n6   1954\n7   1955\n8   1956\n9   1957\n10  1958\n11  1959\n12  1960\n13  1961\n14  1962\n15  1963\n16  1964\n17  1965\n18  1966\n19  1967\n20  1968\n21  1969\n22  1970\n23  1971\n24  1972\n25  1973\n26  1974\n27  1975\n28  1976\n29  1977\n..   ...\n39  1987\n40  1988\n41  1989\n42  1990\n43  1991\n44  1992\n45  1993\n46  1994\n47  1995\n48  1996\n49  1997\n50  1998\n51  1999\n52  2000\n53  2001\n54  2002\n55  2003\n56  2004\n57  2005\n58  2006\n59  2007\n60  2008\n61  2009\n62  2010\n63  2011\n64  2012\n65  2013\n66  2014\n67  2015\n68  2016\n\n[69 rows x 1 columns]", 
                        "text/html": "<div>\n<style scoped>\n    .dataframe tbody tr th:only-of-type {\n        vertical-align: middle;\n    }\n\n    .dataframe tbody tr th {\n        vertical-align: top;\n    }\n\n    .dataframe thead th {\n        text-align: right;\n    }\n</style>\n<table border=\"1\" class=\"dataframe\">\n  <thead>\n    <tr style=\"text-align: right;\">\n      <th></th>\n      <th>date</th>\n    </tr>\n  </thead>\n  <tbody>\n    <tr>\n      <th>0</th>\n      <td>1948</td>\n    </tr>\n    <tr>\n      <th>1</th>\n      <td>1949</td>\n    </tr>\n    <tr>\n      <th>2</th>\n      <td>1950</td>\n    </tr>\n    <tr>\n      <th>3</th>\n      <td>1951</td>\n    </tr>\n    <tr>\n      <th>4</th>\n      <td>1952</td>\n    </tr>\n    <tr>\n      <th>5</th>\n      <td>1953</td>\n    </tr>\n    <tr>\n      <th>6</th>\n      <td>1954</td>\n    </tr>\n    <tr>\n      <th>7</th>\n      <td>1955</td>\n    </tr>\n    <tr>\n      <th>8</th>\n      <td>1956</td>\n    </tr>\n    <tr>\n      <th>9</th>\n      <td>1957</td>\n    </tr>\n    <tr>\n      <th>10</th>\n      <td>1958</td>\n    </tr>\n    <tr>\n      <th>11</th>\n      <td>1959</td>\n    </tr>\n    <tr>\n      <th>12</th>\n      <td>1960</td>\n    </tr>\n    <tr>\n      <th>13</th>\n      <td>1961</td>\n    </tr>\n    <tr>\n      <th>14</th>\n      <td>1962</td>\n    </tr>\n    <tr>\n      <th>15</th>\n      <td>1963</td>\n    </tr>\n    <tr>\n      <th>16</th>\n      <td>1964</td>\n    </tr>\n    <tr>\n      <th>17</th>\n      <td>1965</td>\n    </tr>\n    <tr>\n      <th>18</th>\n      <td>1966</td>\n    </tr>\n    <tr>\n      <th>19</th>\n      <td>1967</td>\n    </tr>\n    <tr>\n      <th>20</th>\n      <td>1968</td>\n    </tr>\n    <tr>\n      <th>21</th>\n      <td>1969</td>\n    </tr>\n    <tr>\n      <th>22</th>\n      <td>1970</td>\n    </tr>\n    <tr>\n      <th>23</th>\n      <td>1971</td>\n    </tr>\n    <tr>\n      <th>24</th>\n      <td>1972</td>\n    </tr>\n    <tr>\n      <th>25</th>\n      <td>1973</td>\n    </tr>\n    <tr>\n      <th>26</th>\n      <td>1974</td>\n    </tr>\n    <tr>\n      <th>27</th>\n      <td>1975</td>\n    </tr>\n    <tr>\n      <th>28</th>\n      <td>1976</td>\n    </tr>\n    <tr>\n      <th>29</th>\n      <td>1977</td>\n    </tr>\n    <tr>\n      <th>...</th>\n      <td>...</td>\n    </tr>\n    <tr>\n      <th>39</th>\n      <td>1987</td>\n    </tr>\n    <tr>\n      <th>40</th>\n      <td>1988</td>\n    </tr>\n    <tr>\n      <th>41</th>\n      <td>1989</td>\n    </tr>\n    <tr>\n      <th>42</th>\n      <td>1990</td>\n    </tr>\n    <tr>\n      <th>43</th>\n      <td>1991</td>\n    </tr>\n    <tr>\n      <th>44</th>\n      <td>1992</td>\n    </tr>\n    <tr>\n      <th>45</th>\n      <td>1993</td>\n    </tr>\n    <tr>\n      <th>46</th>\n      <td>1994</td>\n    </tr>\n    <tr>\n      <th>47</th>\n      <td>1995</td>\n    </tr>\n    <tr>\n      <th>48</th>\n      <td>1996</td>\n    </tr>\n    <tr>\n      <th>49</th>\n      <td>1997</td>\n    </tr>\n    <tr>\n      <th>50</th>\n      <td>1998</td>\n    </tr>\n    <tr>\n      <th>51</th>\n      <td>1999</td>\n    </tr>\n    <tr>\n      <th>52</th>\n      <td>2000</td>\n    </tr>\n    <tr>\n      <th>53</th>\n      <td>2001</td>\n    </tr>\n    <tr>\n      <th>54</th>\n      <td>2002</td>\n    </tr>\n    <tr>\n      <th>55</th>\n      <td>2003</td>\n    </tr>\n    <tr>\n      <th>56</th>\n      <td>2004</td>\n    </tr>\n    <tr>\n      <th>57</th>\n      <td>2005</td>\n    </tr>\n    <tr>\n      <th>58</th>\n      <td>2006</td>\n    </tr>\n    <tr>\n      <th>59</th>\n      <td>2007</td>\n    </tr>\n    <tr>\n      <th>60</th>\n      <td>2008</td>\n    </tr>\n    <tr>\n      <th>61</th>\n      <td>2009</td>\n    </tr>\n    <tr>\n      <th>62</th>\n      <td>2010</td>\n    </tr>\n    <tr>\n      <th>63</th>\n      <td>2011</td>\n    </tr>\n    <tr>\n      <th>64</th>\n      <td>2012</td>\n    </tr>\n    <tr>\n      <th>65</th>\n      <td>2013</td>\n    </tr>\n    <tr>\n      <th>66</th>\n      <td>2014</td>\n    </tr>\n    <tr>\n      <th>67</th>\n      <td>2015</td>\n    </tr>\n    <tr>\n      <th>68</th>\n      <td>2016</td>\n    </tr>\n  </tbody>\n</table>\n<p>69 rows \u00d7 1 columns</p>\n</div>"
                    }, 
                    "execution_count": 51, 
                    "metadata": {}
                }
            ], 
            "execution_count": 51
        }, 
        {
            "source": "Create a new dataframe with the column <code>'change-current' </code> called <code>gdp_change</code>  from the dataframe that contains the GDP data.", 
            "cell_type": "markdown", 
            "metadata": {}
        }, 
        {
            "source": "gdp_change = df[['change-current']]\ngdp_change # Create your dataframe with column change-current", 
            "cell_type": "code", 
            "metadata": {}, 
            "outputs": [
                {
                    "output_type": "execute_result", 
                    "data": {
                        "text/plain": "    change-current\n0             -0.7\n1             10.0\n2             15.7\n3              5.9\n4              6.0\n5              0.3\n6              8.9\n7              5.6\n8              5.5\n9              1.5\n10             8.4\n11             4.0\n12             3.7\n13             7.4\n14             5.6\n15             7.4\n16             8.4\n17             9.6\n18             5.7\n19             9.4\n20             8.2\n21             5.5\n22             8.5\n23             9.8\n24            11.4\n25             8.4\n26             9.0\n27            11.2\n28            11.1\n29            13.0\n..             ...\n39             7.9\n40             7.7\n41             5.7\n42             3.3\n43             5.9\n44             5.2\n45             6.3\n46             4.8\n47             5.7\n48             6.2\n49             5.7\n50             6.3\n51             6.5\n52             3.2\n53             3.4\n54             4.8\n55             6.6\n56             6.7\n57             6.0\n58             4.6\n59             1.8\n60            -1.8\n61             3.8\n62             3.7\n63             4.2\n64             3.6\n65             4.4\n66             4.0\n67             2.7\n68             4.2\n\n[69 rows x 1 columns]", 
                        "text/html": "<div>\n<style scoped>\n    .dataframe tbody tr th:only-of-type {\n        vertical-align: middle;\n    }\n\n    .dataframe tbody tr th {\n        vertical-align: top;\n    }\n\n    .dataframe thead th {\n        text-align: right;\n    }\n</style>\n<table border=\"1\" class=\"dataframe\">\n  <thead>\n    <tr style=\"text-align: right;\">\n      <th></th>\n      <th>change-current</th>\n    </tr>\n  </thead>\n  <tbody>\n    <tr>\n      <th>0</th>\n      <td>-0.7</td>\n    </tr>\n    <tr>\n      <th>1</th>\n      <td>10.0</td>\n    </tr>\n    <tr>\n      <th>2</th>\n      <td>15.7</td>\n    </tr>\n    <tr>\n      <th>3</th>\n      <td>5.9</td>\n    </tr>\n    <tr>\n      <th>4</th>\n      <td>6.0</td>\n    </tr>\n    <tr>\n      <th>5</th>\n      <td>0.3</td>\n    </tr>\n    <tr>\n      <th>6</th>\n      <td>8.9</td>\n    </tr>\n    <tr>\n      <th>7</th>\n      <td>5.6</td>\n    </tr>\n    <tr>\n      <th>8</th>\n      <td>5.5</td>\n    </tr>\n    <tr>\n      <th>9</th>\n      <td>1.5</td>\n    </tr>\n    <tr>\n      <th>10</th>\n      <td>8.4</td>\n    </tr>\n    <tr>\n      <th>11</th>\n      <td>4.0</td>\n    </tr>\n    <tr>\n      <th>12</th>\n      <td>3.7</td>\n    </tr>\n    <tr>\n      <th>13</th>\n      <td>7.4</td>\n    </tr>\n    <tr>\n      <th>14</th>\n      <td>5.6</td>\n    </tr>\n    <tr>\n      <th>15</th>\n      <td>7.4</td>\n    </tr>\n    <tr>\n      <th>16</th>\n      <td>8.4</td>\n    </tr>\n    <tr>\n      <th>17</th>\n      <td>9.6</td>\n    </tr>\n    <tr>\n      <th>18</th>\n      <td>5.7</td>\n    </tr>\n    <tr>\n      <th>19</th>\n      <td>9.4</td>\n    </tr>\n    <tr>\n      <th>20</th>\n      <td>8.2</td>\n    </tr>\n    <tr>\n      <th>21</th>\n      <td>5.5</td>\n    </tr>\n    <tr>\n      <th>22</th>\n      <td>8.5</td>\n    </tr>\n    <tr>\n      <th>23</th>\n      <td>9.8</td>\n    </tr>\n    <tr>\n      <th>24</th>\n      <td>11.4</td>\n    </tr>\n    <tr>\n      <th>25</th>\n      <td>8.4</td>\n    </tr>\n    <tr>\n      <th>26</th>\n      <td>9.0</td>\n    </tr>\n    <tr>\n      <th>27</th>\n      <td>11.2</td>\n    </tr>\n    <tr>\n      <th>28</th>\n      <td>11.1</td>\n    </tr>\n    <tr>\n      <th>29</th>\n      <td>13.0</td>\n    </tr>\n    <tr>\n      <th>...</th>\n      <td>...</td>\n    </tr>\n    <tr>\n      <th>39</th>\n      <td>7.9</td>\n    </tr>\n    <tr>\n      <th>40</th>\n      <td>7.7</td>\n    </tr>\n    <tr>\n      <th>41</th>\n      <td>5.7</td>\n    </tr>\n    <tr>\n      <th>42</th>\n      <td>3.3</td>\n    </tr>\n    <tr>\n      <th>43</th>\n      <td>5.9</td>\n    </tr>\n    <tr>\n      <th>44</th>\n      <td>5.2</td>\n    </tr>\n    <tr>\n      <th>45</th>\n      <td>6.3</td>\n    </tr>\n    <tr>\n      <th>46</th>\n      <td>4.8</td>\n    </tr>\n    <tr>\n      <th>47</th>\n      <td>5.7</td>\n    </tr>\n    <tr>\n      <th>48</th>\n      <td>6.2</td>\n    </tr>\n    <tr>\n      <th>49</th>\n      <td>5.7</td>\n    </tr>\n    <tr>\n      <th>50</th>\n      <td>6.3</td>\n    </tr>\n    <tr>\n      <th>51</th>\n      <td>6.5</td>\n    </tr>\n    <tr>\n      <th>52</th>\n      <td>3.2</td>\n    </tr>\n    <tr>\n      <th>53</th>\n      <td>3.4</td>\n    </tr>\n    <tr>\n      <th>54</th>\n      <td>4.8</td>\n    </tr>\n    <tr>\n      <th>55</th>\n      <td>6.6</td>\n    </tr>\n    <tr>\n      <th>56</th>\n      <td>6.7</td>\n    </tr>\n    <tr>\n      <th>57</th>\n      <td>6.0</td>\n    </tr>\n    <tr>\n      <th>58</th>\n      <td>4.6</td>\n    </tr>\n    <tr>\n      <th>59</th>\n      <td>1.8</td>\n    </tr>\n    <tr>\n      <th>60</th>\n      <td>-1.8</td>\n    </tr>\n    <tr>\n      <th>61</th>\n      <td>3.8</td>\n    </tr>\n    <tr>\n      <th>62</th>\n      <td>3.7</td>\n    </tr>\n    <tr>\n      <th>63</th>\n      <td>4.2</td>\n    </tr>\n    <tr>\n      <th>64</th>\n      <td>3.6</td>\n    </tr>\n    <tr>\n      <th>65</th>\n      <td>4.4</td>\n    </tr>\n    <tr>\n      <th>66</th>\n      <td>4.0</td>\n    </tr>\n    <tr>\n      <th>67</th>\n      <td>2.7</td>\n    </tr>\n    <tr>\n      <th>68</th>\n      <td>4.2</td>\n    </tr>\n  </tbody>\n</table>\n<p>69 rows \u00d7 1 columns</p>\n</div>"
                    }, 
                    "execution_count": 53, 
                    "metadata": {}
                }
            ], 
            "execution_count": 53
        }, 
        {
            "source": "Create a new dataframe with the column <code>'unemployment' </code> called <code>unemployment</code>  from the dataframe that contains the  unemployment data.", 
            "cell_type": "markdown", 
            "metadata": {}
        }, 
        {
            "source": "unemployment = df2[['unemployment']]\nunemployment", 
            "cell_type": "code", 
            "metadata": {}, 
            "outputs": [
                {
                    "output_type": "execute_result", 
                    "data": {
                        "text/plain": "    unemployment\n0       3.750000\n1       6.050000\n2       5.208333\n3       3.283333\n4       3.025000\n5       2.925000\n6       5.591667\n7       4.366667\n8       4.125000\n9       4.300000\n10      6.841667\n11      5.450000\n12      5.541667\n13      6.691667\n14      5.566667\n15      5.641667\n16      5.158333\n17      4.508333\n18      3.791667\n19      3.841667\n20      3.558333\n21      3.491667\n22      4.983333\n23      5.950000\n24      5.600000\n25      4.858333\n26      5.641667\n27      8.475000\n28      7.700000\n29      7.050000\n..           ...\n39      6.175000\n40      5.491667\n41      5.258333\n42      5.616667\n43      6.850000\n44      7.491667\n45      6.908333\n46      6.100000\n47      5.591667\n48      5.408333\n49      4.941667\n50      4.500000\n51      4.216667\n52      3.966667\n53      4.741667\n54      5.783333\n55      5.991667\n56      5.541667\n57      5.083333\n58      4.608333\n59      4.616667\n60      5.800000\n61      9.283333\n62      9.608333\n63      8.933333\n64      8.075000\n65      7.358333\n66      6.158333\n67      5.275000\n68      4.875000\n\n[69 rows x 1 columns]", 
                        "text/html": "<div>\n<style scoped>\n    .dataframe tbody tr th:only-of-type {\n        vertical-align: middle;\n    }\n\n    .dataframe tbody tr th {\n        vertical-align: top;\n    }\n\n    .dataframe thead th {\n        text-align: right;\n    }\n</style>\n<table border=\"1\" class=\"dataframe\">\n  <thead>\n    <tr style=\"text-align: right;\">\n      <th></th>\n      <th>unemployment</th>\n    </tr>\n  </thead>\n  <tbody>\n    <tr>\n      <th>0</th>\n      <td>3.750000</td>\n    </tr>\n    <tr>\n      <th>1</th>\n      <td>6.050000</td>\n    </tr>\n    <tr>\n      <th>2</th>\n      <td>5.208333</td>\n    </tr>\n    <tr>\n      <th>3</th>\n      <td>3.283333</td>\n    </tr>\n    <tr>\n      <th>4</th>\n      <td>3.025000</td>\n    </tr>\n    <tr>\n      <th>5</th>\n      <td>2.925000</td>\n    </tr>\n    <tr>\n      <th>6</th>\n      <td>5.591667</td>\n    </tr>\n    <tr>\n      <th>7</th>\n      <td>4.366667</td>\n    </tr>\n    <tr>\n      <th>8</th>\n      <td>4.125000</td>\n    </tr>\n    <tr>\n      <th>9</th>\n      <td>4.300000</td>\n    </tr>\n    <tr>\n      <th>10</th>\n      <td>6.841667</td>\n    </tr>\n    <tr>\n      <th>11</th>\n      <td>5.450000</td>\n    </tr>\n    <tr>\n      <th>12</th>\n      <td>5.541667</td>\n    </tr>\n    <tr>\n      <th>13</th>\n      <td>6.691667</td>\n    </tr>\n    <tr>\n      <th>14</th>\n      <td>5.566667</td>\n    </tr>\n    <tr>\n      <th>15</th>\n      <td>5.641667</td>\n    </tr>\n    <tr>\n      <th>16</th>\n      <td>5.158333</td>\n    </tr>\n    <tr>\n      <th>17</th>\n      <td>4.508333</td>\n    </tr>\n    <tr>\n      <th>18</th>\n      <td>3.791667</td>\n    </tr>\n    <tr>\n      <th>19</th>\n      <td>3.841667</td>\n    </tr>\n    <tr>\n      <th>20</th>\n      <td>3.558333</td>\n    </tr>\n    <tr>\n      <th>21</th>\n      <td>3.491667</td>\n    </tr>\n    <tr>\n      <th>22</th>\n      <td>4.983333</td>\n    </tr>\n    <tr>\n      <th>23</th>\n      <td>5.950000</td>\n    </tr>\n    <tr>\n      <th>24</th>\n      <td>5.600000</td>\n    </tr>\n    <tr>\n      <th>25</th>\n      <td>4.858333</td>\n    </tr>\n    <tr>\n      <th>26</th>\n      <td>5.641667</td>\n    </tr>\n    <tr>\n      <th>27</th>\n      <td>8.475000</td>\n    </tr>\n    <tr>\n      <th>28</th>\n      <td>7.700000</td>\n    </tr>\n    <tr>\n      <th>29</th>\n      <td>7.050000</td>\n    </tr>\n    <tr>\n      <th>...</th>\n      <td>...</td>\n    </tr>\n    <tr>\n      <th>39</th>\n      <td>6.175000</td>\n    </tr>\n    <tr>\n      <th>40</th>\n      <td>5.491667</td>\n    </tr>\n    <tr>\n      <th>41</th>\n      <td>5.258333</td>\n    </tr>\n    <tr>\n      <th>42</th>\n      <td>5.616667</td>\n    </tr>\n    <tr>\n      <th>43</th>\n      <td>6.850000</td>\n    </tr>\n    <tr>\n      <th>44</th>\n      <td>7.491667</td>\n    </tr>\n    <tr>\n      <th>45</th>\n      <td>6.908333</td>\n    </tr>\n    <tr>\n      <th>46</th>\n      <td>6.100000</td>\n    </tr>\n    <tr>\n      <th>47</th>\n      <td>5.591667</td>\n    </tr>\n    <tr>\n      <th>48</th>\n      <td>5.408333</td>\n    </tr>\n    <tr>\n      <th>49</th>\n      <td>4.941667</td>\n    </tr>\n    <tr>\n      <th>50</th>\n      <td>4.500000</td>\n    </tr>\n    <tr>\n      <th>51</th>\n      <td>4.216667</td>\n    </tr>\n    <tr>\n      <th>52</th>\n      <td>3.966667</td>\n    </tr>\n    <tr>\n      <th>53</th>\n      <td>4.741667</td>\n    </tr>\n    <tr>\n      <th>54</th>\n      <td>5.783333</td>\n    </tr>\n    <tr>\n      <th>55</th>\n      <td>5.991667</td>\n    </tr>\n    <tr>\n      <th>56</th>\n      <td>5.541667</td>\n    </tr>\n    <tr>\n      <th>57</th>\n      <td>5.083333</td>\n    </tr>\n    <tr>\n      <th>58</th>\n      <td>4.608333</td>\n    </tr>\n    <tr>\n      <th>59</th>\n      <td>4.616667</td>\n    </tr>\n    <tr>\n      <th>60</th>\n      <td>5.800000</td>\n    </tr>\n    <tr>\n      <th>61</th>\n      <td>9.283333</td>\n    </tr>\n    <tr>\n      <th>62</th>\n      <td>9.608333</td>\n    </tr>\n    <tr>\n      <th>63</th>\n      <td>8.933333</td>\n    </tr>\n    <tr>\n      <th>64</th>\n      <td>8.075000</td>\n    </tr>\n    <tr>\n      <th>65</th>\n      <td>7.358333</td>\n    </tr>\n    <tr>\n      <th>66</th>\n      <td>6.158333</td>\n    </tr>\n    <tr>\n      <th>67</th>\n      <td>5.275000</td>\n    </tr>\n    <tr>\n      <th>68</th>\n      <td>4.875000</td>\n    </tr>\n  </tbody>\n</table>\n<p>69 rows \u00d7 1 columns</p>\n</div>"
                    }, 
                    "execution_count": 55, 
                    "metadata": {}
                }
            ], 
            "execution_count": 55
        }, 
        {
            "source": "Give your dashboard a string title, and assign it to the variable <code>title</code>", 
            "cell_type": "markdown", 
            "metadata": {}
        }, 
        {
            "source": "title = ('My First Python Dashboard')\ntitle # Give your dashboard a string title", 
            "cell_type": "code", 
            "metadata": {}, 
            "outputs": [
                {
                    "output_type": "execute_result", 
                    "data": {
                        "text/plain": "'My First Python Dashboard'"
                    }, 
                    "execution_count": 58, 
                    "metadata": {}
                }
            ], 
            "execution_count": 58
        }, 
        {
            "source": "Finally, the function <code>make_dashboard</code> will output an <code>.html</code> in your direictory, just like a <code>csv</code> file. The name of the file is <code>\"index.html\"</code> and it will be stored in the varable  <code>file_name</code>.", 
            "cell_type": "markdown", 
            "metadata": {}
        }, 
        {
            "source": "file_name = \"index.html\"\nfile_name", 
            "cell_type": "code", 
            "metadata": {}, 
            "outputs": [
                {
                    "output_type": "execute_result", 
                    "data": {
                        "text/plain": "'index.html'"
                    }, 
                    "execution_count": 91, 
                    "metadata": {}
                }
            ], 
            "execution_count": 91
        }, 
        {
            "source": "Call the function <code>make_dashboard</code> , to produce a dashboard.  Assign the parameter values accordingly take a the <b>, take a screen shot of the dashboard and submit it</b>.", 
            "cell_type": "markdown", 
            "metadata": {}
        }, 
        {
            "source": "# Fill up the parameters in the following function:\n#make_dashboard(x='date', gdp_change='change-current', unemployment='unemployment', title='My First Python Dashboard', file_name='file_name')\nx='date'\ngdp_change='change-current'\nunemployment='unemployment'\ntitle='My First Python Dashboard'\nfile_name=\"index.html\"\nmake_dashboard(x, gdp_change, unemployment, title, file_name)", 
            "cell_type": "code", 
            "metadata": {}, 
            "outputs": [
                {
                    "output_type": "error", 
                    "evalue": "'str' object has no attribute 'squeeze'", 
                    "traceback": [
                        "\u001b[0;31m---------------------------------------------------------------------------\u001b[0m", 
                        "\u001b[0;31mAttributeError\u001b[0m                            Traceback (most recent call last)", 
                        "\u001b[0;32m<ipython-input-106-9b169bc565a2>\u001b[0m in \u001b[0;36m<module>\u001b[0;34m()\u001b[0m\n\u001b[1;32m      6\u001b[0m \u001b[0mtitle\u001b[0m\u001b[0;34m=\u001b[0m\u001b[0;34m'My First Python Dashboard'\u001b[0m\u001b[0;34m\u001b[0m\u001b[0m\n\u001b[1;32m      7\u001b[0m \u001b[0mfile_name\u001b[0m\u001b[0;34m=\u001b[0m\u001b[0;34m\"index.html\"\u001b[0m\u001b[0;34m\u001b[0m\u001b[0m\n\u001b[0;32m----> 8\u001b[0;31m \u001b[0mmake_dashboard\u001b[0m\u001b[0;34m(\u001b[0m\u001b[0mx\u001b[0m\u001b[0;34m,\u001b[0m \u001b[0mgdp_change\u001b[0m\u001b[0;34m,\u001b[0m \u001b[0munemployment\u001b[0m\u001b[0;34m,\u001b[0m \u001b[0mtitle\u001b[0m\u001b[0;34m,\u001b[0m \u001b[0mfile_name\u001b[0m\u001b[0;34m)\u001b[0m\u001b[0;34m\u001b[0m\u001b[0m\n\u001b[0m", 
                        "\u001b[0;32m<ipython-input-85-e34ddf3251da>\u001b[0m in \u001b[0;36mmake_dashboard\u001b[0;34m(x, gdp_change, unemployment, title, file_name)\u001b[0m\n\u001b[1;32m      2\u001b[0m     \u001b[0moutput_file\u001b[0m\u001b[0;34m(\u001b[0m\u001b[0mfile_name\u001b[0m\u001b[0;34m)\u001b[0m\u001b[0;34m\u001b[0m\u001b[0m\n\u001b[1;32m      3\u001b[0m     \u001b[0mp\u001b[0m \u001b[0;34m=\u001b[0m \u001b[0mfigure\u001b[0m\u001b[0;34m(\u001b[0m\u001b[0mtitle\u001b[0m\u001b[0;34m=\u001b[0m\u001b[0;34m'title'\u001b[0m\u001b[0;34m,\u001b[0m \u001b[0mx_axis_label\u001b[0m\u001b[0;34m=\u001b[0m\u001b[0;34m'year'\u001b[0m\u001b[0;34m,\u001b[0m \u001b[0my_axis_label\u001b[0m\u001b[0;34m=\u001b[0m\u001b[0;34m'%'\u001b[0m\u001b[0;34m)\u001b[0m\u001b[0;34m\u001b[0m\u001b[0m\n\u001b[0;32m----> 4\u001b[0;31m     \u001b[0mp\u001b[0m\u001b[0;34m.\u001b[0m\u001b[0mline\u001b[0m\u001b[0;34m(\u001b[0m\u001b[0mx\u001b[0m\u001b[0;34m.\u001b[0m\u001b[0msqueeze\u001b[0m\u001b[0;34m(\u001b[0m\u001b[0;34m)\u001b[0m\u001b[0;34m,\u001b[0m \u001b[0mgdp_change\u001b[0m\u001b[0;34m.\u001b[0m\u001b[0msqueeze\u001b[0m\u001b[0;34m(\u001b[0m\u001b[0;34m)\u001b[0m\u001b[0;34m,\u001b[0m \u001b[0mcolor\u001b[0m\u001b[0;34m=\u001b[0m\u001b[0;34m\"firebrick\"\u001b[0m\u001b[0;34m,\u001b[0m \u001b[0mline_width\u001b[0m\u001b[0;34m=\u001b[0m\u001b[0;36m4\u001b[0m\u001b[0;34m,\u001b[0m \u001b[0mlegend\u001b[0m\u001b[0;34m=\u001b[0m\u001b[0;34m\"% GDP change\"\u001b[0m\u001b[0;34m)\u001b[0m\u001b[0;34m\u001b[0m\u001b[0m\n\u001b[0m\u001b[1;32m      5\u001b[0m     \u001b[0mp\u001b[0m\u001b[0;34m.\u001b[0m\u001b[0mline\u001b[0m\u001b[0;34m(\u001b[0m\u001b[0mx\u001b[0m\u001b[0;34m.\u001b[0m\u001b[0msqueeze\u001b[0m\u001b[0;34m(\u001b[0m\u001b[0;34m)\u001b[0m\u001b[0;34m,\u001b[0m \u001b[0munemployment\u001b[0m\u001b[0;34m.\u001b[0m\u001b[0msqueeze\u001b[0m\u001b[0;34m(\u001b[0m\u001b[0;34m)\u001b[0m\u001b[0;34m,\u001b[0m \u001b[0mline_width\u001b[0m\u001b[0;34m=\u001b[0m\u001b[0;36m4\u001b[0m\u001b[0;34m,\u001b[0m \u001b[0mlegend\u001b[0m\u001b[0;34m=\u001b[0m\u001b[0;34m\"% unemployed\"\u001b[0m\u001b[0;34m)\u001b[0m\u001b[0;34m\u001b[0m\u001b[0m\n\u001b[1;32m      6\u001b[0m     \u001b[0mshow\u001b[0m\u001b[0;34m(\u001b[0m\u001b[0mp\u001b[0m\u001b[0;34m)\u001b[0m\u001b[0;34m\u001b[0m\u001b[0m\n", 
                        "\u001b[0;31mAttributeError\u001b[0m: 'str' object has no attribute 'squeeze'"
                    ], 
                    "ename": "AttributeError"
                }
            ], 
            "execution_count": 106
        }, 
        {
            "source": "<h3 id=\"Section_5\">Question 5: Save the dashboard on IBM cloud and display it</h3>", 
            "cell_type": "markdown", 
            "metadata": {}
        }, 
        {
            "source": "From the tutorial <i>PROVISIONING AN OBJECT STORAGE INSTANCE ON IBM CLOUD</i> copy the JSON object containing the credentials you created. You\u2019ll want to store everything you see in a credentials variable like the one below (obviously, replace the placeholder values with your own). Take special note of your <code>access_key_id</code> and <code>secret_access_key</code>. <b>Do not delete <code># @hidden_cell </code> as this will not allow people to see your credentials when you share your notebook. </b>", 
            "cell_type": "markdown", 
            "metadata": {}
        }, 
        {
            "source": "<code>\ncredentials = {<br>\n &nbsp; \"apikey\": \"your-api-key\",<br>\n &nbsp; \"cos_hmac_keys\": {<br>\n &nbsp;  \"access_key_id\": \"your-access-key-here\", <br>\n &nbsp;   \"secret_access_key\": \"your-secret-access-key-here\"<br>\n &nbsp; },<br>\n</code>\n<code>\n   &nbsp;\"endpoints\": \"your-endpoints\",<br>\n &nbsp; \"iam_apikey_description\": \"your-iam_apikey_description\",<br>\n &nbsp; \"iam_apikey_name\": \"your-iam_apikey_name\",<br>\n &nbsp; \"iam_role_crn\": \"your-iam_apikey_name\",<br>\n &nbsp;  \"iam_serviceid_crn\": \"your-iam_serviceid_crn\",<br>\n &nbsp;\"resource_instance_id\": \"your-resource_instance_id\"<br>\n}\n</code>", 
            "cell_type": "markdown", 
            "metadata": {}
        }, 
        {
            "source": "# @hidden_cell\n#", 
            "cell_type": "code", 
            "metadata": {}, 
            "outputs": [], 
            "execution_count": null
        }, 
        {
            "source": "You will need the endpoint make sure the setting are the same as <i> PROVISIONING AN OBJECT STORAGE INSTANCE ON IBM CLOUD </i> assign the name of your bucket to the variable  <code>bucket_name </code> ", 
            "cell_type": "markdown", 
            "metadata": {}
        }, 
        {
            "source": "endpoint = 'https://s3-api.us-geo.objectstorage.softlayer.net'", 
            "cell_type": "code", 
            "metadata": {}, 
            "outputs": [], 
            "execution_count": null
        }, 
        {
            "source": "From the tutorial <i> PROVISIONING AN OBJECT STORAGE INSTANCE ON IBM CLOUD </i> assign the name of your bucket to the variable  <code>bucket_name </code> ", 
            "cell_type": "markdown", 
            "metadata": {}
        }, 
        {
            "source": "bucket_name = # Type your bucket name on IBM Cloud", 
            "cell_type": "code", 
            "metadata": {}, 
            "outputs": [], 
            "execution_count": null
        }, 
        {
            "source": "We can access IBM Cloud Object Storage with Python useing the <code>boto3</code> library, which we\u2019ll import below:", 
            "cell_type": "markdown", 
            "metadata": {}
        }, 
        {
            "source": "import boto3", 
            "cell_type": "code", 
            "metadata": {}, 
            "outputs": [], 
            "execution_count": null
        }, 
        {
            "source": "We can interact with IBM Cloud Object Storage through a <code>boto3</code> resource object.", 
            "cell_type": "markdown", 
            "metadata": {}
        }, 
        {
            "source": "resource = boto3.resource(\n    's3',\n    aws_access_key_id = credentials[\"cos_hmac_keys\"]['access_key_id'],\n    aws_secret_access_key = credentials[\"cos_hmac_keys\"][\"secret_access_key\"],\n    endpoint_url = endpoint,\n)", 
            "cell_type": "code", 
            "metadata": {}, 
            "outputs": [], 
            "execution_count": null
        }, 
        {
            "source": "We are going to use  <code>open</code> to create a file object. To get the path of the file, you are going to concatenate the name of the file stored in the variable <code>file_name</code>. The directory stored in the variable directory using the <code>+</code> operator and assign it to the variable \n<code>html_path</code>. We will use the function <code>getcwd()</code> to find current the working directory.", 
            "cell_type": "markdown", 
            "metadata": {}
        }, 
        {
            "source": "import os\n\ndirectory = os.getcwd()\nhtml_path = directory + \"/\" + file_name", 
            "cell_type": "code", 
            "metadata": {}, 
            "outputs": [], 
            "execution_count": null
        }, 
        {
            "source": "Now you must read the html file, use the function <code>f = open(html_path, mode)</code> to create a file object and assign it to the variable <code>f</code>. The parameter <code>file</code> should be the variable <code>html_path</code>, the mode should be <code>\"r\"</code> for read. ", 
            "cell_type": "markdown", 
            "metadata": {}
        }, 
        {
            "source": "# Type your code here", 
            "cell_type": "code", 
            "metadata": {}, 
            "outputs": [], 
            "execution_count": null
        }, 
        {
            "source": "To load your dataset into the bucket we will use the method <code>put_object</code>, you must set the parameter name to the name of the bucket, the parameter <code>Key</code> should be the name of the HTML file and the value for the parameter Body  should be set to <code>f.read()</code>.", 
            "cell_type": "markdown", 
            "metadata": {}
        }, 
        {
            "source": "# Fill up the parameters in the following function:\n# resource.Bucket(name=).put_object(Key=, Body=)", 
            "cell_type": "code", 
            "metadata": {}, 
            "outputs": [], 
            "execution_count": null
        }, 
        {
            "source": "In the dictionary <code>Params</code> provide the bucket name  as the value for the key <i>'Bucket'</i>. Also for the value of the key <i>'Key'</i> add the name of the <code>html</code> file, both values should be strings.", 
            "cell_type": "markdown", 
            "metadata": {}
        }, 
        {
            "source": "# Fill in the value for each key\n# Params = {'Bucket': ,'Key': }", 
            "cell_type": "code", 
            "metadata": {}, 
            "outputs": [], 
            "execution_count": null
        }, 
        {
            "source": "The following lines of code will generate a URL to share your dashboard. The URL only last seven days, but don't worry you will get full marks if the URL is visible in your notebook.  ", 
            "cell_type": "markdown", 
            "metadata": {}
        }, 
        {
            "source": "import sys\ntime = 7*24*60**2\nclient = boto3.client(\n    's3',\n    aws_access_key_id = credentials[\"cos_hmac_keys\"]['access_key_id'],\n    aws_secret_access_key = credentials[\"cos_hmac_keys\"][\"secret_access_key\"],\n    endpoint_url=endpoint,\n\n)\nurl = client.generate_presigned_url('get_object',Params=Params,ExpiresIn=time)\nprint(url)", 
            "cell_type": "code", 
            "metadata": {}, 
            "outputs": [], 
            "execution_count": null
        }, 
        {
            "source": "<h2 id=\"Section_5\">  How to submit </h2>", 
            "cell_type": "markdown", 
            "metadata": {}
        }, 
        {
            "source": "<p>Once you complete your notebook you will have to share it to be marked. Select the icon on the top right a marked in red in the image below, a dialogue box should open, select the option all&nbsp;content excluding sensitive code cells.</p>\n\n<p><img height=\"440\" width=\"700\" src=\"https://s3-api.us-geo.objectstorage.softlayer.net/cf-courses-data/CognitiveClass/PY0101EN/projects/EdX/ReadMe%20files/share_noteook1.png\" alt=\"share notebook\" /></p>\n<p></p>\n\n<p>You can then share the notebook&nbsp; via a&nbsp; URL by scrolling down as shown in the following image:</p>\n<p style=\"text-align: center;\"> <img height=\"308\" width=\"350\" src=\"https://s3-api.us-geo.objectstorage.softlayer.net/cf-courses-data/CognitiveClass/PY0101EN/projects/EdX/ReadMe%20files/link2.png\"  alt=\"share notebook\" /> </p>", 
            "cell_type": "markdown", 
            "metadata": {}
        }, 
        {
            "source": "<hr>\n<p>Copyright &copy; 2019 IBM Developer Skills Network. This notebook and its source code are released under the terms of the <a href=\"https://cognitiveclass.ai/mit-license/\">MIT License</a>.</p>", 
            "cell_type": "markdown", 
            "metadata": {}
        }, 
        {
            "source": "<h2>About the Authors:</h2> \n\n<a href=\"https://www.linkedin.com/in/joseph-s-50398b136/\">Joseph Santarcangelo</a> has a PhD in Electrical Engineering, his research focused on using machine learning, signal processing, and computer vision to determine how videos impact human cognition. Joseph has been working for IBM since he completed his PhD.\n<p>\nOther contributors: <a href=\"https://www.linkedin.com/in/yi-leng-yao-84451275/\">Yi leng Yao</a>, <a href=\"www.linkedin.com/in/jiahui-mavis-zhou-a4537814a\">Mavis Zhou</a> \n</p>", 
            "cell_type": "markdown", 
            "metadata": {}
        }, 
        {
            "source": "<h2>References :</h2> ", 
            "cell_type": "markdown", 
            "metadata": {}
        }, 
        {
            "source": "<ul>\n <il>\n     1) <a href=\"https://research.stlouisfed.org/\">Economic Research at the St. Louis Fed </a>:<a href=\"https://fred.stlouisfed.org/series/UNRATE/\"> Civilian Unemployment Rate</a>\n   </il>   \n    <p>\n     <il>\n    2) <a href=\"https://github.com/datasets\">Data Packaged Core Datasets\n       </a>\n   </il> \n    </p>\n    \n</ul>\n</div>", 
            "cell_type": "markdown", 
            "metadata": {}
        }
    ], 
    "metadata": {
        "kernelspec": {
            "display_name": "Python 3.5", 
            "name": "python3", 
            "language": "python"
        }, 
        "language_info": {
            "mimetype": "text/x-python", 
            "nbconvert_exporter": "python", 
            "version": "3.5.5", 
            "name": "python", 
            "pygments_lexer": "ipython3", 
            "file_extension": ".py", 
            "codemirror_mode": {
                "version": 3, 
                "name": "ipython"
            }
        }
    }, 
    "nbformat": 4
}